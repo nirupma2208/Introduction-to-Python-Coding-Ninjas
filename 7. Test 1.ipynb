{
 "cells": [
  {
   "cell_type": "markdown",
   "id": "04be6148",
   "metadata": {},
   "source": [
    "# Number Star pattern 1\n",
    "    Print the following pattern for given number of rows.\n",
    "    Input format :\n",
    "    Integer N (Total number of rows)\n",
    "    Output Format :\n",
    "    Pattern in N lines\n",
    "    Sample Input :\n",
    "       5\n",
    "    Sample Output :\n",
    "     5432*\n",
    "     543*1\n",
    "     54*21\n",
    "     5*321\n",
    "     *4321"
   ]
  },
  {
   "cell_type": "code",
   "execution_count": null,
   "id": "74374a64",
   "metadata": {},
   "outputs": [],
   "source": [
    "n = int(input())\n",
    "for i in range(1,n+1):\n",
    "    k=n\n",
    "    for j in range(1,n+1):\n",
    "        if j==n+1-i:\n",
    "            print('*',end='')\n",
    "        else:\n",
    "            print(k,end='')\n",
    "        k-=1\n",
    "    print()"
   ]
  },
  {
   "cell_type": "markdown",
   "id": "1b7ef7de",
   "metadata": {},
   "source": [
    "# Zeros and Stars Pattern\n",
    "    Print the following pattern\n",
    "    Pattern for N = 4\n",
    "    *000*000*\n",
    "    0*00*00*0\n",
    "    00*0*0*00\n",
    "    000***000\n",
    "    Input Format :\n",
    "    N (Total no. of rows)\n",
    "    Output Format :\n",
    "    Pattern in N lines\n",
    "    Sample Input 1 :\n",
    "    3\n",
    "    Sample Output 1 :\n",
    "    *00*00*\n",
    "    0*0*0*0\n",
    "    00***00\n",
    "    Sample Input 2 :\n",
    "    5\n",
    "    Sample Output 2 :\n",
    "    *0000*0000*\n",
    "    0*000*000*0\n",
    "    00*00*00*00\n",
    "    000*0*0*000\n",
    "    0000***0000"
   ]
  },
  {
   "cell_type": "code",
   "execution_count": null,
   "id": "d449abc8",
   "metadata": {},
   "outputs": [],
   "source": [
    "n = int(input())\n",
    "for i in range(1,n+1):\n",
    "    k=n\n",
    "    for j in range(1,(n*2)+2):\n",
    "        if j==i or j==n+1 or j==n*2+2-i:\n",
    "            print('*',end='')\n",
    "        else:\n",
    "            print(0,end='')\n",
    "      \n",
    "    print()"
   ]
  },
  {
   "cell_type": "markdown",
   "id": "7995c1d7",
   "metadata": {},
   "source": [
    "# Check Armstrong\n",
    "    Write a Program to determine if the given number is Armstrong number or not. Print true if number is armstrong, otherwise print false.\n",
    "    An Armstrong number is a number (with digits n) such that the sum of its digits raised to nth power is equal to the number itself.\n",
    "    For example,\n",
    "    371, as 3^3 + 7^3 + 1^3 = 371\n",
    "    1634, as 1^4 + 6^4 + 3^4 + 4^4 = 1634\n",
    "    Input Format :\n",
    "    Integer n\n",
    "    Output Format :\n",
    "    true or false\n",
    "    Sample Input 1 :\n",
    "    1\n",
    "    Sample Output 1 :\n",
    "    true\n",
    "    Sample Input 2 :\n",
    "    103\n",
    "    Sample Output 2 :\n",
    "    false"
   ]
  },
  {
   "cell_type": "code",
   "execution_count": null,
   "id": "17213143",
   "metadata": {},
   "outputs": [],
   "source": [
    "n = int(input())\n",
    "k=n\n",
    "sum=0\n",
    "while n!=0:\n",
    "    r=n%10\n",
    "    sum+=r**len(str(k))\n",
    "    n=n//10\n",
    "if k==sum:\n",
    "    print('true')\n",
    "else:\n",
    "    print('false')\n",
    "\n"
   ]
  },
  {
   "cell_type": "code",
   "execution_count": null,
   "id": "f9d44b6d",
   "metadata": {},
   "outputs": [],
   "source": []
  }
 ],
 "metadata": {
  "kernelspec": {
   "display_name": "Python 3 (ipykernel)",
   "language": "python",
   "name": "python3"
  },
  "language_info": {
   "codemirror_mode": {
    "name": "ipython",
    "version": 3
   },
   "file_extension": ".py",
   "mimetype": "text/x-python",
   "name": "python",
   "nbconvert_exporter": "python",
   "pygments_lexer": "ipython3",
   "version": "3.10.4"
  }
 },
 "nbformat": 4,
 "nbformat_minor": 5
}
