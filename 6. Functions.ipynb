{
 "cells": [
  {
   "cell_type": "code",
   "execution_count": null,
   "id": "390aeba8",
   "metadata": {},
   "outputs": [],
   "source": [
    "# Fahrenheit to Celsius Function\n"
   ]
  },
  {
   "cell_type": "code",
   "execution_count": null,
   "id": "88779ed5",
   "metadata": {},
   "outputs": [],
   "source": [
    "\n",
    "\n",
    "\n",
    "def printTable(start,end,step):\n",
    "    \n",
    "    for i in range(start,end+1,step):\n",
    "        c = int((5 / 9) * (i - 32))\n",
    "        print(i,c) \n",
    "\n",
    "\t   \n",
    "s = int(input())\n",
    "e = int(input())\n",
    "step = int(input())\n",
    "printTable(s,e,step)\n",
    "\n",
    "\n",
    "\n",
    "\n",
    "\n"
   ]
  },
  {
   "cell_type": "markdown",
   "id": "ae01f024",
   "metadata": {},
   "source": [
    "# Fibonacci Member\n",
    "    Given a number N, figure out if it is a member of fibonacci series or not. Return true if the number is member of fibonacci series else false.\n",
    "    Fibonacci Series is defined by the recurrence\n",
    "        F(n) = F(n-1) + F(n-2)\n",
    "    where F(0) = 0 and F(1) = 1\n",
    "\n",
    "\n",
    "    Input Format :\n",
    "    Integer N\n",
    "    Output Format :\n",
    "    true or false\n",
    "    Constraints :\n",
    "    0 <= n <= 10^4\n",
    "    Sample Input 1 :\n",
    "    5\n",
    "    Sample Output 1 :\n",
    "    true\n",
    "    Sample Input 2 :\n",
    "    14\n",
    "    Sample Output 2 :\n",
    "    false    "
   ]
  },
  {
   "cell_type": "code",
   "execution_count": null,
   "id": "93a90e18",
   "metadata": {},
   "outputs": [],
   "source": [
    "\n",
    "import math\n",
    "def isPerfectSquare(x):\n",
    "    s = int(math.sqrt(x))\n",
    "    return s*s == x\n",
    "\n",
    "def checkMember(n):\n",
    "    return isPerfectSquare(5*n*n + 4) or isPerfectSquare(5*n*n - 4)\n",
    "\n",
    "n=int(input())\n",
    "if(checkMember(n)):\n",
    "    print(\"true\")\n",
    "else:\n",
    "    print(\"false\")"
   ]
  },
  {
   "cell_type": "markdown",
   "id": "5a1d8253",
   "metadata": {},
   "source": [
    "# Palindrome number\n",
    "    Write a program to determine if given number is palindrome or not. Print true if it is palindrome, false otherwise.\n",
    "    Palindrome are the numbers for which reverse is exactly same as the original one. For eg. 121\n",
    "    Sample Input 1 :\n",
    "    121\n",
    "    Sample Output 1 :\n",
    "    true\n",
    "    Sample Input 2 :\n",
    "    1032\n",
    "    Sample Output 2 :\n",
    "    false"
   ]
  },
  {
   "cell_type": "code",
   "execution_count": null,
   "id": "6673cc66",
   "metadata": {},
   "outputs": [],
   "source": [
    "def checkPalindrome(num):\n",
    "    return str(num)[::-1] == str(num)\n",
    "    \n",
    "num = int(input())\n",
    "isPalindrome = checkPalindrome(num)\n",
    "if(isPalindrome):\n",
    "    print('true')\n",
    "else:\n",
    "    print('false')\n"
   ]
  },
  {
   "cell_type": "markdown",
   "id": "1529c755",
   "metadata": {},
   "source": [
    "# Check Armstrong\n",
    "    Write a Program to determine if the given number is Armstrong number or not. Print true if number is armstrong, otherwise print false.\n",
    "    An Armstrong number is a number (with digits n) such that the sum of its digits raised to nth power is equal to the number itself.\n",
    "    For example,\n",
    "    371, as 3^3 + 7^3 + 1^3 = 371\n",
    "    1634, as 1^4 + 6^4 + 3^4 + 4^4 = 1634\n",
    "    Input Format :\n",
    "    Integer n\n",
    "    Output Format :\n",
    "    true or false\n",
    "    Sample Input 1 :\n",
    "    1\n",
    "    Sample Output 1 :\n",
    "    true\n",
    "    Sample Input 2 :\n",
    "    103\n",
    "    Sample Output 2 :\n",
    "    false"
   ]
  },
  {
   "cell_type": "code",
   "execution_count": null,
   "id": "19221b83",
   "metadata": {},
   "outputs": [],
   "source": [
    "n = int(input())\n",
    "sum=0\n",
    "temp=n\n",
    "while n!=0:\n",
    "    r = n%10\n",
    "    sum = sum+r**len(str(temp))\n",
    "    n =n//10\n",
    "if temp==sum:\n",
    "    print('true')\n",
    "else:\n",
    "    print('false')\n"
   ]
  }
 ],
 "metadata": {
  "kernelspec": {
   "display_name": "Python 3 (ipykernel)",
   "language": "python",
   "name": "python3"
  },
  "language_info": {
   "codemirror_mode": {
    "name": "ipython",
    "version": 3
   },
   "file_extension": ".py",
   "mimetype": "text/x-python",
   "name": "python",
   "nbconvert_exporter": "python",
   "pygments_lexer": "ipython3",
   "version": "3.10.4"
  }
 },
 "nbformat": 4,
 "nbformat_minor": 5
}
