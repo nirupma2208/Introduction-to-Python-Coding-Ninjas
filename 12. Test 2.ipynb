{
 "cells": [
  {
   "cell_type": "markdown",
   "id": "6f387f45",
   "metadata": {},
   "source": [
    "# Print 2D Array\n",
    "    Given a 2D integer array with n rows and m columns. Print the 0th row from input n times, 1st row n-1 times…..(n-1)th row will be printed 1 time.\n",
    "    Input format :\n",
    "    Line 1 : No of rows (n) and no of columns (m) (separated by single space)\n",
    "    Line 2 : Row 1 elements (separated by space)\n",
    "    Line 3 : Row 2 elements (separated by space)\n",
    "    Line 4 : and so on\n",
    "    Sample Input 1:\n",
    "    3 3\n",
    "    1 2 3\n",
    "    4 5 6\n",
    "    7 8 9\n",
    "    Sample Output 1 :\n",
    "    1 2 3\n",
    "    1 2 3\n",
    "    1 2 3\n",
    "    4 5 6\n",
    "    4 5 6\n",
    "    7 8 "
   ]
  },
  {
   "cell_type": "code",
   "execution_count": null,
   "id": "64f6b8eb",
   "metadata": {},
   "outputs": [],
   "source": [
    "def fun(arr,n,m):\n",
    "    k=0\n",
    "    for i in range(n,0,-1):\n",
    "        for j in range(i):\n",
    "            print(' '.join(map(str,arr[k])))\n",
    "        k+=1\n",
    "n,m=list(map(int,input().split()))\n",
    "\n",
    "i=0\n",
    "a=[]\n",
    "while i<n:\n",
    "    a.append(list(map(int, input().split())))\n",
    "    i+=1\n",
    "fun(a,n,m)"
   ]
  },
  {
   "cell_type": "markdown",
   "id": "0fbb73b8",
   "metadata": {},
   "source": [
    "# Minimum Length Word\n",
    "    Given a string S (that can contain multiple words), you need to find the word which has minimum length.\n",
    "    Note : If multiple words are of same length, then answer will be first minimum length word in the string.\n",
    "    Words are seperated by single space only.\n",
    "    Input Format :\n",
    "    String S\n",
    "    Output Format :\n",
    "    Minimum length word\n",
    "    Constraints :\n",
    "    1 <= Length of String S <= 10^5\n",
    "    Sample Input 1 :\n",
    "    this is test string\n",
    "    Sample Output 1 :\n",
    "    is\n",
    "    Sample Input 2 :\n",
    "    abc de ghihjk a uvw h j\n",
    "    Sample Output 2 :\n",
    "    a"
   ]
  },
  {
   "cell_type": "code",
   "execution_count": null,
   "id": "324341ba",
   "metadata": {},
   "outputs": [],
   "source": [
    "s=input().split()\n",
    "\n",
    "min_len = 99999\n",
    "for ele in s: \n",
    "    if len(ele) < min_len: \n",
    "        min_len = len(ele) \n",
    "        res = ele\n",
    "print(res)"
   ]
  },
  {
   "cell_type": "markdown",
   "id": "8fcb614f",
   "metadata": {},
   "source": [
    "# Leaders in array\n",
    "    Given an integer array A of size n. Find and print all the leaders present in the input array. An array element A[i] is called Leader, if all the elements following it (i.e. present at its right) are less than or equal to A[i].\n",
    "    Print all the leader elements separated by space and in the same order they are present in the input array.\n",
    "    Input Format :\n",
    "    Line 1 : Integer n, size of array\n",
    "    Line 2 : Array A elements (separated by space)\n",
    "    Output Format :\n",
    "     leaders of array (separated by space)\n",
    "    Constraints :\n",
    "    1 <= n <= 10^6\n",
    "    Sample Input 1 :\n",
    "    6\n",
    "    3 12 34 2 0 -1\n",
    "    Sample Output 1 :\n",
    "    34 2 0 -1\n",
    "    Sample Input 2 :\n",
    "    5\n",
    "    13 17 5 4 6\n",
    "    Sample Output 2 :\n",
    "    17 \"6. Functions.ipynb\""
   ]
  },
  {
   "cell_type": "code",
   "execution_count": null,
   "id": "2b70c02c",
   "metadata": {},
   "outputs": [],
   "source": [
    "\n",
    "def leaderprint(arr, n):\n",
    " \n",
    "    for i in range(0, n):\n",
    "        for j in range(i, n):\n",
    "            if (arr[i] < arr[j]):\n",
    "                break\n",
    "            if (j == n - 1):\n",
    "                print(arr[i],end=' ')\n",
    " \n",
    "n=int(input())\n",
    "arr=list(map(int, input().split()))\n",
    "leaderprint(arr, n)"
   ]
  }
 ],
 "metadata": {
  "kernelspec": {
   "display_name": "Python 3 (ipykernel)",
   "language": "python",
   "name": "python3"
  },
  "language_info": {
   "codemirror_mode": {
    "name": "ipython",
    "version": 3
   },
   "file_extension": ".py",
   "mimetype": "text/x-python",
   "name": "python",
   "nbconvert_exporter": "python",
   "pygments_lexer": "ipython3",
   "version": "3.10.4"
  }
 },
 "nbformat": 4,
 "nbformat_minor": 5
}
